{
 "cells": [
  {
   "cell_type": "markdown",
   "metadata": {},
   "source": [
    "# Защита персональных данных клиентов"
   ]
  },
  {
   "cell_type": "markdown",
   "metadata": {},
   "source": [
    "Вам нужно защитить данные клиентов страховой компании «Хоть потоп». Разработайте такой метод преобразования данных, чтобы по ним было сложно восстановить персональную информацию. Обоснуйте корректность его работы.\n",
    "\n",
    "Нужно защитить данные, чтобы при преобразовании качество моделей машинного обучения не ухудшилось. Подбирать наилучшую модель не требуется."
   ]
  },
  {
   "cell_type": "markdown",
   "metadata": {},
   "source": [
    "## Загрузка данных"
   ]
  },
  {
   "cell_type": "code",
   "execution_count": 1,
   "metadata": {},
   "outputs": [],
   "source": [
    "import pandas as pd\n",
    "import numpy as np\n",
    "from sklearn.linear_model import LinearRegression\n",
    "from sklearn.model_selection import train_test_split\n",
    "from sklearn.metrics import r2_score"
   ]
  },
  {
   "cell_type": "code",
   "execution_count": 2,
   "metadata": {},
   "outputs": [
    {
     "data": {
      "text/html": [
       "<div>\n",
       "<style scoped>\n",
       "    .dataframe tbody tr th:only-of-type {\n",
       "        vertical-align: middle;\n",
       "    }\n",
       "\n",
       "    .dataframe tbody tr th {\n",
       "        vertical-align: top;\n",
       "    }\n",
       "\n",
       "    .dataframe thead th {\n",
       "        text-align: right;\n",
       "    }\n",
       "</style>\n",
       "<table border=\"1\" class=\"dataframe\">\n",
       "  <thead>\n",
       "    <tr style=\"text-align: right;\">\n",
       "      <th></th>\n",
       "      <th>Пол</th>\n",
       "      <th>Возраст</th>\n",
       "      <th>Зарплата</th>\n",
       "      <th>Члены семьи</th>\n",
       "      <th>Страховые выплаты</th>\n",
       "    </tr>\n",
       "  </thead>\n",
       "  <tbody>\n",
       "    <tr>\n",
       "      <th>0</th>\n",
       "      <td>1</td>\n",
       "      <td>41.0</td>\n",
       "      <td>49600.0</td>\n",
       "      <td>1</td>\n",
       "      <td>0</td>\n",
       "    </tr>\n",
       "    <tr>\n",
       "      <th>1</th>\n",
       "      <td>0</td>\n",
       "      <td>46.0</td>\n",
       "      <td>38000.0</td>\n",
       "      <td>1</td>\n",
       "      <td>1</td>\n",
       "    </tr>\n",
       "    <tr>\n",
       "      <th>2</th>\n",
       "      <td>0</td>\n",
       "      <td>29.0</td>\n",
       "      <td>21000.0</td>\n",
       "      <td>0</td>\n",
       "      <td>0</td>\n",
       "    </tr>\n",
       "    <tr>\n",
       "      <th>3</th>\n",
       "      <td>0</td>\n",
       "      <td>21.0</td>\n",
       "      <td>41700.0</td>\n",
       "      <td>2</td>\n",
       "      <td>0</td>\n",
       "    </tr>\n",
       "    <tr>\n",
       "      <th>4</th>\n",
       "      <td>1</td>\n",
       "      <td>28.0</td>\n",
       "      <td>26100.0</td>\n",
       "      <td>0</td>\n",
       "      <td>0</td>\n",
       "    </tr>\n",
       "  </tbody>\n",
       "</table>\n",
       "</div>"
      ],
      "text/plain": [
       "   Пол  Возраст  Зарплата  Члены семьи  Страховые выплаты\n",
       "0    1     41.0   49600.0            1                  0\n",
       "1    0     46.0   38000.0            1                  1\n",
       "2    0     29.0   21000.0            0                  0\n",
       "3    0     21.0   41700.0            2                  0\n",
       "4    1     28.0   26100.0            0                  0"
      ]
     },
     "execution_count": 2,
     "metadata": {},
     "output_type": "execute_result"
    }
   ],
   "source": [
    "df = pd.read_csv('/datasets/insurance.csv')\n",
    "df.head()"
   ]
  },
  {
   "cell_type": "code",
   "execution_count": 3,
   "metadata": {},
   "outputs": [
    {
     "name": "stdout",
     "output_type": "stream",
     "text": [
      "<class 'pandas.core.frame.DataFrame'>\n",
      "RangeIndex: 5000 entries, 0 to 4999\n",
      "Data columns (total 5 columns):\n",
      " #   Column             Non-Null Count  Dtype  \n",
      "---  ------             --------------  -----  \n",
      " 0   Пол                5000 non-null   int64  \n",
      " 1   Возраст            5000 non-null   float64\n",
      " 2   Зарплата           5000 non-null   float64\n",
      " 3   Члены семьи        5000 non-null   int64  \n",
      " 4   Страховые выплаты  5000 non-null   int64  \n",
      "dtypes: float64(2), int64(3)\n",
      "memory usage: 195.4 KB\n"
     ]
    }
   ],
   "source": [
    "df.info()"
   ]
  },
  {
   "cell_type": "markdown",
   "metadata": {},
   "source": [
    "Проверим, есть ли в данных аномальные значения:"
   ]
  },
  {
   "cell_type": "code",
   "execution_count": 4,
   "metadata": {},
   "outputs": [
    {
     "data": {
      "image/png": "[encoded data removed]",
      "text/plain": [
       "<Figure size 432x288 with 1 Axes>"
      ]
     },
     "metadata": {
      "needs_background": "light"
     },
     "output_type": "display_data"
    },
    {
     "data": {
      "image/png": "[encoded data removed]",
      "text/plain": [
       "<Figure size 432x288 with 1 Axes>"
      ]
     },
     "metadata": {
      "needs_background": "light"
     },
     "output_type": "display_data"
    },
    {
     "data": {
      "image/png": "[encoded data removed]",
      "text/plain": [
       "<Figure size 432x288 with 1 Axes>"
      ]
     },
     "metadata": {
      "needs_background": "light"
     },
     "output_type": "display_data"
    },
    {
     "data": {
      "image/png": "[encoded data removed]",
      "text/plain": [
       "<Figure size 432x288 with 1 Axes>"
      ]
     },
     "metadata": {
      "needs_background": "light"
     },
     "output_type": "display_data"
    },
    {
     "data": {
      "image/png": "[encoded data removed]",
      "text/plain": [
       "<Figure size 432x288 with 1 Axes>"
      ]
     },
     "metadata": {
      "needs_background": "light"
     },
     "output_type": "display_data"
    }
   ],
   "source": [
    "for col in df.columns:\n",
    "    df.hist(column=col)"
   ]
  },
  {
   "cell_type": "markdown",
   "metadata": {},
   "source": [
    "Изменим тип данных в столбцах `Возраст` и `Зарплата` на целочисленный. "
   ]
  },
  {
   "cell_type": "code",
   "execution_count": 5,
   "metadata": {},
   "outputs": [
    {
     "name": "stdout",
     "output_type": "stream",
     "text": [
      "<class 'pandas.core.frame.DataFrame'>\n",
      "RangeIndex: 5000 entries, 0 to 4999\n",
      "Data columns (total 5 columns):\n",
      " #   Column             Non-Null Count  Dtype\n",
      "---  ------             --------------  -----\n",
      " 0   Пол                5000 non-null   int64\n",
      " 1   Возраст            5000 non-null   int64\n",
      " 2   Зарплата           5000 non-null   int64\n",
      " 3   Члены семьи        5000 non-null   int64\n",
      " 4   Страховые выплаты  5000 non-null   int64\n",
      "dtypes: int64(5)\n",
      "memory usage: 195.4 KB\n"
     ]
    }
   ],
   "source": [
    "columns = ['Зарплата', 'Возраст']\n",
    "df[columns] = df[columns].astype('int64')\n",
    "df.info()"
   ]
  },
  {
   "cell_type": "markdown",
   "metadata": {},
   "source": [
    "Данные загружены, аномалий нет."
   ]
  },
  {
   "cell_type": "markdown",
   "metadata": {},
   "source": [
    "## Умножение матриц"
   ]
  },
  {
   "cell_type": "markdown",
   "metadata": {},
   "source": [
    "Обозначения:\n",
    "\n",
    "- $X$ — матрица признаков (нулевой столбец состоит из единиц)\n",
    "\n",
    "- $y$ — вектор целевого признака\n",
    "\n",
    "- $P$ — матрица, на которую умножаются признаки\n",
    "\n",
    "- $w$ — вектор весов линейной регрессии (нулевой элемент равен сдвигу)"
   ]
  },
  {
   "cell_type": "markdown",
   "metadata": {},
   "source": [
    "Предсказания:\n",
    "\n",
    "$$\n",
    "a = Xw\n",
    "$$\n",
    "\n",
    "Задача обучения:\n",
    "\n",
    "$$\n",
    "w = \\arg\\min_w MSE(Xw, y)\n",
    "$$\n",
    "\n",
    "Формула обучения:\n",
    "\n",
    "$$\n",
    "w = (X^T X)^{-1} X^T y\n",
    "$$"
   ]
  },
  {
   "cell_type": "markdown",
   "metadata": {},
   "source": [
    "**Вопрос:** изменится ли качество линейной регрессии при умножении признаков на обратимую матрицу?"
   ]
  },
  {
   "cell_type": "markdown",
   "metadata": {},
   "source": [
    "**Ответ:** при умножении признаков на обратимую матрицу качество линейной регрессии не изменится.\n",
    "\n",
    "**Обоснование:** \n",
    "\n",
    "Пусть:\n",
    "\n",
    "$a$ - предсказание\n",
    "\n",
    "$w$ - веса линейной регрессии\n",
    "\n",
    "$X$ - матрица признаков\n",
    "\n",
    "$P$ - случайная обратимая матрица\n",
    "\n",
    "Формула предсказаний:\n",
    "\n",
    "$$a = Xw$$\n",
    "\n",
    "Умножим исходную матрицу X на рандомную матрицу P, получим следующую формулу предсказаний:\n",
    "\n",
    "$$a = XPw$$\n",
    "\n",
    "Веса вычисляются по следующей формуле:\n",
    "\n",
    "$$w = (X^TX)^{-1}X^Ty$$\n",
    "\n",
    "Новая формула обучения будет выглядеть так:\n",
    "\n",
    "$$w' = ((XP)^T(XP))^{-1}(XP)^Ty$$\n",
    "\n",
    "Раскроем скобки:\n",
    "\n",
    "$$w' = ((X^TP^TXP)^{-1}X^TP^Ty$$\n",
    "$$w' = P^{-1}(X^TX)^{-1}EX^Ty$$\n",
    "$$w' = P^{-1}w$$\n"
   ]
  },
  {
   "cell_type": "markdown",
   "metadata": {},
   "source": [
    "## Алгоритм преобразования"
   ]
  },
  {
   "cell_type": "markdown",
   "metadata": {},
   "source": [
    "**Алгоритм**\n",
    "\n",
    "Для защиты персональных данных на этапе создания модели будем умножать матрицу признаков на обратимую матрицу, которая будет генерироваться случайным образом.\n",
    "\n",
    "Этапы работы алгоритма:\n",
    "\n",
    "1. Генерация случайной матрицы.\n",
    "2. Проверка матрицы на обратимость.\n",
    "3. Получение матрицы преобразованных признаков.\n",
    "4. Применение алгоритма при обучении модели."
   ]
  },
  {
   "cell_type": "markdown",
   "metadata": {},
   "source": [
    "**Обоснование**\n",
    "\n",
    "Описанный алгоритм может использоваться для шифрования данных без потери качества линейной регрессии, что было доказано на предыдущем шаге."
   ]
  },
  {
   "cell_type": "markdown",
   "metadata": {},
   "source": [
    "## Проверка алгоритма"
   ]
  },
  {
   "cell_type": "markdown",
   "metadata": {},
   "source": [
    "Создадим случайную матрицу и проверим ее на обратимость:"
   ]
  },
  {
   "cell_type": "code",
   "execution_count": 6,
   "metadata": {},
   "outputs": [],
   "source": [
    "matrix = np.random.normal(size=(4, 4))"
   ]
  },
  {
   "cell_type": "code",
   "execution_count": 7,
   "metadata": {},
   "outputs": [
    {
     "data": {
      "text/plain": [
       "array([[-0.81096389, -0.3829205 , -0.25039418,  0.18360346],\n",
       "       [-0.10729569,  0.26679311, -0.09150695,  0.36900271],\n",
       "       [ 0.4852872 ,  0.81470058,  0.69468654, -0.1969248 ],\n",
       "       [-1.16126802, -0.78718989, -1.06651527, -0.01960086]])"
      ]
     },
     "execution_count": 7,
     "metadata": {},
     "output_type": "execute_result"
    }
   ],
   "source": [
    "np.linalg.inv(matrix)"
   ]
  },
  {
   "cell_type": "markdown",
   "metadata": {},
   "source": [
    "Выделим целевой признак и создадим матрицу признаков:"
   ]
  },
  {
   "cell_type": "code",
   "execution_count": 8,
   "metadata": {},
   "outputs": [],
   "source": [
    "features = df.drop('Страховые выплаты', axis=1)\n",
    "target = df['Страховые выплаты']"
   ]
  },
  {
   "cell_type": "code",
   "execution_count": 9,
   "metadata": {},
   "outputs": [
    {
     "data": {
      "text/plain": [
       "(5000, 4)"
      ]
     },
     "execution_count": 9,
     "metadata": {},
     "output_type": "execute_result"
    }
   ],
   "source": [
    "features_matrix = np.array(features)\n",
    "features_matrix.shape"
   ]
  },
  {
   "cell_type": "markdown",
   "metadata": {},
   "source": [
    "Получим матрицу преобразованных признаков и создадим датафрейм:"
   ]
  },
  {
   "cell_type": "code",
   "execution_count": 10,
   "metadata": {},
   "outputs": [
    {
     "data": {
      "text/plain": [
       "(5000, 4)"
      ]
     },
     "execution_count": 10,
     "metadata": {},
     "output_type": "execute_result"
    }
   ],
   "source": [
    "features_transformed = features_matrix.dot(matrix)\n",
    "features_transformed.shape"
   ]
  },
  {
   "cell_type": "code",
   "execution_count": 11,
   "metadata": {},
   "outputs": [
    {
     "data": {
      "text/html": [
       "<div>\n",
       "<style scoped>\n",
       "    .dataframe tbody tr th:only-of-type {\n",
       "        vertical-align: middle;\n",
       "    }\n",
       "\n",
       "    .dataframe tbody tr th {\n",
       "        vertical-align: top;\n",
       "    }\n",
       "\n",
       "    .dataframe thead th {\n",
       "        text-align: right;\n",
       "    }\n",
       "</style>\n",
       "<table border=\"1\" class=\"dataframe\">\n",
       "  <thead>\n",
       "    <tr style=\"text-align: right;\">\n",
       "      <th></th>\n",
       "      <th>0</th>\n",
       "      <th>1</th>\n",
       "      <th>2</th>\n",
       "      <th>3</th>\n",
       "    </tr>\n",
       "  </thead>\n",
       "  <tbody>\n",
       "    <tr>\n",
       "      <th>0</th>\n",
       "      <td>99998.057263</td>\n",
       "      <td>-52032.685116</td>\n",
       "      <td>2112.749472</td>\n",
       "      <td>-64143.366815</td>\n",
       "    </tr>\n",
       "    <tr>\n",
       "      <th>1</th>\n",
       "      <td>76601.555825</td>\n",
       "      <td>-39845.729765</td>\n",
       "      <td>1640.531236</td>\n",
       "      <td>-49127.067120</td>\n",
       "    </tr>\n",
       "    <tr>\n",
       "      <th>2</th>\n",
       "      <td>42329.366797</td>\n",
       "      <td>-22016.544586</td>\n",
       "      <td>912.611091</td>\n",
       "      <td>-27144.835365</td>\n",
       "    </tr>\n",
       "    <tr>\n",
       "      <th>3</th>\n",
       "      <td>84083.040844</td>\n",
       "      <td>-43759.829923</td>\n",
       "      <td>1755.744111</td>\n",
       "      <td>-53941.921832</td>\n",
       "    </tr>\n",
       "    <tr>\n",
       "      <th>4</th>\n",
       "      <td>52614.095906</td>\n",
       "      <td>-27373.082497</td>\n",
       "      <td>1121.418070</td>\n",
       "      <td>-33745.791414</td>\n",
       "    </tr>\n",
       "  </tbody>\n",
       "</table>\n",
       "</div>"
      ],
      "text/plain": [
       "              0             1            2             3\n",
       "0  99998.057263 -52032.685116  2112.749472 -64143.366815\n",
       "1  76601.555825 -39845.729765  1640.531236 -49127.067120\n",
       "2  42329.366797 -22016.544586   912.611091 -27144.835365\n",
       "3  84083.040844 -43759.829923  1755.744111 -53941.921832\n",
       "4  52614.095906 -27373.082497  1121.418070 -33745.791414"
      ]
     },
     "execution_count": 11,
     "metadata": {},
     "output_type": "execute_result"
    }
   ],
   "source": [
    "features_transformed = pd.DataFrame(features_transformed)\n",
    "features_transformed.head()"
   ]
  },
  {
   "cell_type": "markdown",
   "metadata": {},
   "source": [
    "Разделим исходный и преобразованный датафреймы на две выборки:"
   ]
  },
  {
   "cell_type": "code",
   "execution_count": 12,
   "metadata": {},
   "outputs": [
    {
     "data": {
      "text/plain": [
       "((3750, 4), (1250, 4), (3750,), (1250,))"
      ]
     },
     "execution_count": 12,
     "metadata": {},
     "output_type": "execute_result"
    }
   ],
   "source": [
    "features_train, features_test, target_train, target_test = train_test_split(features, target, random_state=1)\n",
    "features_train.shape, features_test.shape, target_train.shape, target_test.shape"
   ]
  },
  {
   "cell_type": "code",
   "execution_count": 13,
   "metadata": {},
   "outputs": [
    {
     "data": {
      "text/plain": [
       "((3750, 4), (1250, 4))"
      ]
     },
     "execution_count": 13,
     "metadata": {},
     "output_type": "execute_result"
    }
   ],
   "source": [
    "features_transformed_train, features_transformed_test = train_test_split(features_transformed, random_state=1)\n",
    "\n",
    "features_transformed_train.shape, features_transformed_test.shape"
   ]
  },
  {
   "cell_type": "code",
   "execution_count": 14,
   "metadata": {},
   "outputs": [
    {
     "data": {
      "text/html": [
       "<div>\n",
       "<style scoped>\n",
       "    .dataframe tbody tr th:only-of-type {\n",
       "        vertical-align: middle;\n",
       "    }\n",
       "\n",
       "    .dataframe tbody tr th {\n",
       "        vertical-align: top;\n",
       "    }\n",
       "\n",
       "    .dataframe thead th {\n",
       "        text-align: right;\n",
       "    }\n",
       "</style>\n",
       "<table border=\"1\" class=\"dataframe\">\n",
       "  <thead>\n",
       "    <tr style=\"text-align: right;\">\n",
       "      <th></th>\n",
       "      <th>Пол</th>\n",
       "      <th>Возраст</th>\n",
       "      <th>Зарплата</th>\n",
       "      <th>Члены семьи</th>\n",
       "    </tr>\n",
       "  </thead>\n",
       "  <tbody>\n",
       "    <tr>\n",
       "      <th>3186</th>\n",
       "      <td>1</td>\n",
       "      <td>36</td>\n",
       "      <td>39400</td>\n",
       "      <td>4</td>\n",
       "    </tr>\n",
       "    <tr>\n",
       "      <th>632</th>\n",
       "      <td>0</td>\n",
       "      <td>30</td>\n",
       "      <td>26300</td>\n",
       "      <td>3</td>\n",
       "    </tr>\n",
       "    <tr>\n",
       "      <th>577</th>\n",
       "      <td>0</td>\n",
       "      <td>31</td>\n",
       "      <td>24600</td>\n",
       "      <td>2</td>\n",
       "    </tr>\n",
       "    <tr>\n",
       "      <th>2406</th>\n",
       "      <td>0</td>\n",
       "      <td>37</td>\n",
       "      <td>37100</td>\n",
       "      <td>3</td>\n",
       "    </tr>\n",
       "    <tr>\n",
       "      <th>4686</th>\n",
       "      <td>0</td>\n",
       "      <td>25</td>\n",
       "      <td>34800</td>\n",
       "      <td>1</td>\n",
       "    </tr>\n",
       "  </tbody>\n",
       "</table>\n",
       "</div>"
      ],
      "text/plain": [
       "      Пол  Возраст  Зарплата  Члены семьи\n",
       "3186    1       36     39400            4\n",
       "632     0       30     26300            3\n",
       "577     0       31     24600            2\n",
       "2406    0       37     37100            3\n",
       "4686    0       25     34800            1"
      ]
     },
     "metadata": {},
     "output_type": "display_data"
    },
    {
     "data": {
      "text/html": [
       "<div>\n",
       "<style scoped>\n",
       "    .dataframe tbody tr th:only-of-type {\n",
       "        vertical-align: middle;\n",
       "    }\n",
       "\n",
       "    .dataframe tbody tr th {\n",
       "        vertical-align: top;\n",
       "    }\n",
       "\n",
       "    .dataframe thead th {\n",
       "        text-align: right;\n",
       "    }\n",
       "</style>\n",
       "<table border=\"1\" class=\"dataframe\">\n",
       "  <thead>\n",
       "    <tr style=\"text-align: right;\">\n",
       "      <th></th>\n",
       "      <th>0</th>\n",
       "      <th>1</th>\n",
       "      <th>2</th>\n",
       "      <th>3</th>\n",
       "    </tr>\n",
       "  </thead>\n",
       "  <tbody>\n",
       "    <tr>\n",
       "      <th>3186</th>\n",
       "      <td>79433.164617</td>\n",
       "      <td>-41323.079888</td>\n",
       "      <td>1678.791404</td>\n",
       "      <td>-50952.874754</td>\n",
       "    </tr>\n",
       "    <tr>\n",
       "      <th>632</th>\n",
       "      <td>53019.242573</td>\n",
       "      <td>-27575.970718</td>\n",
       "      <td>1129.615451</td>\n",
       "      <td>-34005.690246</td>\n",
       "    </tr>\n",
       "    <tr>\n",
       "      <th>577</th>\n",
       "      <td>49589.389711</td>\n",
       "      <td>-25791.213690</td>\n",
       "      <td>1062.001419</td>\n",
       "      <td>-31803.633683</td>\n",
       "    </tr>\n",
       "    <tr>\n",
       "      <th>2406</th>\n",
       "      <td>74794.623842</td>\n",
       "      <td>-38908.384969</td>\n",
       "      <td>1587.331248</td>\n",
       "      <td>-47974.046249</td>\n",
       "    </tr>\n",
       "    <tr>\n",
       "      <th>4686</th>\n",
       "      <td>70163.921557</td>\n",
       "      <td>-36510.982045</td>\n",
       "      <td>1477.107249</td>\n",
       "      <td>-45007.796433</td>\n",
       "    </tr>\n",
       "  </tbody>\n",
       "</table>\n",
       "</div>"
      ],
      "text/plain": [
       "                 0             1            2             3\n",
       "3186  79433.164617 -41323.079888  1678.791404 -50952.874754\n",
       "632   53019.242573 -27575.970718  1129.615451 -34005.690246\n",
       "577   49589.389711 -25791.213690  1062.001419 -31803.633683\n",
       "2406  74794.623842 -38908.384969  1587.331248 -47974.046249\n",
       "4686  70163.921557 -36510.982045  1477.107249 -45007.796433"
      ]
     },
     "metadata": {},
     "output_type": "display_data"
    }
   ],
   "source": [
    "display(features_train.head(5))\n",
    "display(features_transformed_train.head(5))"
   ]
  },
  {
   "cell_type": "markdown",
   "metadata": {},
   "source": [
    "Переходим к обучению моделей:"
   ]
  },
  {
   "cell_type": "code",
   "execution_count": 15,
   "metadata": {},
   "outputs": [],
   "source": [
    "model_1 = LinearRegression()\n",
    "model_2 = LinearRegression()"
   ]
  },
  {
   "cell_type": "code",
   "execution_count": 16,
   "metadata": {},
   "outputs": [
    {
     "data": {
      "text/plain": [
       "LinearRegression()"
      ]
     },
     "execution_count": 16,
     "metadata": {},
     "output_type": "execute_result"
    }
   ],
   "source": [
    "model_1.fit(features_train, target_train)\n",
    "model_2.fit(features_transformed_train, target_train)"
   ]
  },
  {
   "cell_type": "code",
   "execution_count": 17,
   "metadata": {},
   "outputs": [],
   "source": [
    "prediction1 = model_1.predict(features_test)\n",
    "prediction2 = model_2.predict(features_transformed_test)"
   ]
  },
  {
   "cell_type": "code",
   "execution_count": 18,
   "metadata": {},
   "outputs": [
    {
     "name": "stdout",
     "output_type": "stream",
     "text": [
      "R2 на исходных данных: 0.3238\n",
      "R2 на преобразованных данных: 0.3238\n"
     ]
    }
   ],
   "source": [
    "model_1_r2 = r2_score(target_test, prediction1)\n",
    "model_2_r2 = r2_score(target_test, prediction2)\n",
    "print(f'R2 на исходных данных: {model_1_r2:.4f}')\n",
    "print(f'R2 на преобразованных данных: {model_2_r2:.4f}')"
   ]
  },
  {
   "cell_type": "markdown",
   "metadata": {},
   "source": [
    "Качество работы модели на преобразованных данных действительно не изменилось. Для финальной проверки восстановим исходный датафрейм:"
   ]
  },
  {
   "cell_type": "code",
   "execution_count": 19,
   "metadata": {},
   "outputs": [],
   "source": [
    "df_recovered = features_transformed.dot(np.linalg.inv(matrix))\n",
    "df_recovered[4] = target"
   ]
  },
  {
   "cell_type": "code",
   "execution_count": 20,
   "metadata": {},
   "outputs": [
    {
     "name": "stdout",
     "output_type": "stream",
     "text": [
      "Восстановленный датафрейм:\n"
     ]
    },
    {
     "data": {
      "text/html": [
       "<div>\n",
       "<style scoped>\n",
       "    .dataframe tbody tr th:only-of-type {\n",
       "        vertical-align: middle;\n",
       "    }\n",
       "\n",
       "    .dataframe tbody tr th {\n",
       "        vertical-align: top;\n",
       "    }\n",
       "\n",
       "    .dataframe thead th {\n",
       "        text-align: right;\n",
       "    }\n",
       "</style>\n",
       "<table border=\"1\" class=\"dataframe\">\n",
       "  <thead>\n",
       "    <tr style=\"text-align: right;\">\n",
       "      <th></th>\n",
       "      <th>Пол</th>\n",
       "      <th>Возраст</th>\n",
       "      <th>Зарплата</th>\n",
       "      <th>Члены семьи</th>\n",
       "      <th>Страховые выплаты</th>\n",
       "    </tr>\n",
       "  </thead>\n",
       "  <tbody>\n",
       "    <tr>\n",
       "      <th>0</th>\n",
       "      <td>1</td>\n",
       "      <td>41</td>\n",
       "      <td>49600</td>\n",
       "      <td>1</td>\n",
       "      <td>0</td>\n",
       "    </tr>\n",
       "    <tr>\n",
       "      <th>1</th>\n",
       "      <td>0</td>\n",
       "      <td>46</td>\n",
       "      <td>38000</td>\n",
       "      <td>1</td>\n",
       "      <td>1</td>\n",
       "    </tr>\n",
       "    <tr>\n",
       "      <th>2</th>\n",
       "      <td>0</td>\n",
       "      <td>29</td>\n",
       "      <td>21000</td>\n",
       "      <td>0</td>\n",
       "      <td>0</td>\n",
       "    </tr>\n",
       "    <tr>\n",
       "      <th>3</th>\n",
       "      <td>0</td>\n",
       "      <td>21</td>\n",
       "      <td>41700</td>\n",
       "      <td>2</td>\n",
       "      <td>0</td>\n",
       "    </tr>\n",
       "    <tr>\n",
       "      <th>4</th>\n",
       "      <td>1</td>\n",
       "      <td>28</td>\n",
       "      <td>26100</td>\n",
       "      <td>0</td>\n",
       "      <td>0</td>\n",
       "    </tr>\n",
       "  </tbody>\n",
       "</table>\n",
       "</div>"
      ],
      "text/plain": [
       "   Пол  Возраст  Зарплата  Члены семьи  Страховые выплаты\n",
       "0    1       41     49600            1                  0\n",
       "1    0       46     38000            1                  1\n",
       "2    0       29     21000            0                  0\n",
       "3    0       21     41700            2                  0\n",
       "4    1       28     26100            0                  0"
      ]
     },
     "metadata": {},
     "output_type": "display_data"
    },
    {
     "name": "stdout",
     "output_type": "stream",
     "text": [
      "Исходный датафрейм:\n"
     ]
    },
    {
     "data": {
      "text/html": [
       "<div>\n",
       "<style scoped>\n",
       "    .dataframe tbody tr th:only-of-type {\n",
       "        vertical-align: middle;\n",
       "    }\n",
       "\n",
       "    .dataframe tbody tr th {\n",
       "        vertical-align: top;\n",
       "    }\n",
       "\n",
       "    .dataframe thead th {\n",
       "        text-align: right;\n",
       "    }\n",
       "</style>\n",
       "<table border=\"1\" class=\"dataframe\">\n",
       "  <thead>\n",
       "    <tr style=\"text-align: right;\">\n",
       "      <th></th>\n",
       "      <th>Пол</th>\n",
       "      <th>Возраст</th>\n",
       "      <th>Зарплата</th>\n",
       "      <th>Члены семьи</th>\n",
       "      <th>Страховые выплаты</th>\n",
       "    </tr>\n",
       "  </thead>\n",
       "  <tbody>\n",
       "    <tr>\n",
       "      <th>0</th>\n",
       "      <td>1</td>\n",
       "      <td>41</td>\n",
       "      <td>49600</td>\n",
       "      <td>1</td>\n",
       "      <td>0</td>\n",
       "    </tr>\n",
       "    <tr>\n",
       "      <th>1</th>\n",
       "      <td>0</td>\n",
       "      <td>46</td>\n",
       "      <td>38000</td>\n",
       "      <td>1</td>\n",
       "      <td>1</td>\n",
       "    </tr>\n",
       "    <tr>\n",
       "      <th>2</th>\n",
       "      <td>0</td>\n",
       "      <td>29</td>\n",
       "      <td>21000</td>\n",
       "      <td>0</td>\n",
       "      <td>0</td>\n",
       "    </tr>\n",
       "    <tr>\n",
       "      <th>3</th>\n",
       "      <td>0</td>\n",
       "      <td>21</td>\n",
       "      <td>41700</td>\n",
       "      <td>2</td>\n",
       "      <td>0</td>\n",
       "    </tr>\n",
       "    <tr>\n",
       "      <th>4</th>\n",
       "      <td>1</td>\n",
       "      <td>28</td>\n",
       "      <td>26100</td>\n",
       "      <td>0</td>\n",
       "      <td>0</td>\n",
       "    </tr>\n",
       "  </tbody>\n",
       "</table>\n",
       "</div>"
      ],
      "text/plain": [
       "   Пол  Возраст  Зарплата  Члены семьи  Страховые выплаты\n",
       "0    1       41     49600            1                  0\n",
       "1    0       46     38000            1                  1\n",
       "2    0       29     21000            0                  0\n",
       "3    0       21     41700            2                  0\n",
       "4    1       28     26100            0                  0"
      ]
     },
     "metadata": {},
     "output_type": "display_data"
    },
    {
     "name": "stdout",
     "output_type": "stream",
     "text": [
      "Проверка:\n"
     ]
    },
    {
     "data": {
      "text/html": [
       "<div>\n",
       "<style scoped>\n",
       "    .dataframe tbody tr th:only-of-type {\n",
       "        vertical-align: middle;\n",
       "    }\n",
       "\n",
       "    .dataframe tbody tr th {\n",
       "        vertical-align: top;\n",
       "    }\n",
       "\n",
       "    .dataframe thead th {\n",
       "        text-align: right;\n",
       "    }\n",
       "</style>\n",
       "<table border=\"1\" class=\"dataframe\">\n",
       "  <thead>\n",
       "    <tr style=\"text-align: right;\">\n",
       "      <th></th>\n",
       "      <th>Пол</th>\n",
       "      <th>Возраст</th>\n",
       "      <th>Зарплата</th>\n",
       "      <th>Члены семьи</th>\n",
       "      <th>Страховые выплаты</th>\n",
       "    </tr>\n",
       "  </thead>\n",
       "  <tbody>\n",
       "    <tr>\n",
       "      <th>True</th>\n",
       "      <td>5000</td>\n",
       "      <td>5000</td>\n",
       "      <td>5000</td>\n",
       "      <td>5000</td>\n",
       "      <td>5000</td>\n",
       "    </tr>\n",
       "  </tbody>\n",
       "</table>\n",
       "</div>"
      ],
      "text/plain": [
       "       Пол  Возраст  Зарплата  Члены семьи  Страховые выплаты\n",
       "True  5000     5000      5000         5000               5000"
      ]
     },
     "metadata": {},
     "output_type": "display_data"
    }
   ],
   "source": [
    "df_recovered = round(df_recovered).astype('int64')\n",
    "df_recovered.columns = ['Пол', 'Возраст', 'Зарплата', 'Члены семьи', 'Страховые выплаты']\n",
    "print('Восстановленный датафрейм:')\n",
    "display(df_recovered.head(5))\n",
    "print('Исходный датафрейм:')\n",
    "display(df.head(5))\n",
    "print('Проверка:')\n",
    "display((df == df_recovered).apply(pd.Series.value_counts))"
   ]
  },
  {
   "cell_type": "markdown",
   "metadata": {},
   "source": [
    "**Вывод:** в ходе выполнения проекта доказали, что при умножении признаков на случайную обратимую матрицу качество линейной регрессии не меняется. На основе этого создали алгоритм преобразования для защиты персональных данных."
   ]
  }
 ],
 "metadata": {
  "ExecuteTimeLog": [
   {
    "duration": 405,
    "start_time": "2022-03-23T12:40:46.156Z"
   },
   {
    "duration": 197,
    "start_time": "2022-03-23T12:41:05.726Z"
   },
   {
    "duration": 12,
    "start_time": "2022-03-23T12:41:52.950Z"
   },
   {
    "duration": 509,
    "start_time": "2022-03-29T08:32:41.206Z"
   },
   {
    "duration": 36,
    "start_time": "2022-03-29T08:32:41.717Z"
   },
   {
    "duration": 16,
    "start_time": "2022-03-29T08:32:41.755Z"
   },
   {
    "duration": 89,
    "start_time": "2022-03-29T08:32:52.554Z"
   },
   {
    "duration": 10,
    "start_time": "2022-03-29T08:32:58.736Z"
   },
   {
    "duration": 5,
    "start_time": "2022-03-29T08:33:11.783Z"
   },
   {
    "duration": 122,
    "start_time": "2022-03-29T08:34:40.276Z"
   },
   {
    "duration": 10,
    "start_time": "2022-03-29T08:34:45.112Z"
   },
   {
    "duration": 13,
    "start_time": "2022-03-29T08:34:48.341Z"
   },
   {
    "duration": 227,
    "start_time": "2022-03-29T08:36:21.439Z"
   },
   {
    "duration": 13,
    "start_time": "2022-03-29T08:36:24.117Z"
   },
   {
    "duration": 3671,
    "start_time": "2022-03-29T08:38:09.740Z"
   },
   {
    "duration": 951,
    "start_time": "2022-03-29T08:38:32.401Z"
   },
   {
    "duration": 28,
    "start_time": "2022-03-29T08:44:29.615Z"
   },
   {
    "duration": 13,
    "start_time": "2022-03-29T08:44:54.015Z"
   },
   {
    "duration": 24,
    "start_time": "2022-03-29T08:44:59.828Z"
   },
   {
    "duration": 16,
    "start_time": "2022-03-29T08:45:04.832Z"
   },
   {
    "duration": 22,
    "start_time": "2022-03-29T08:45:09.602Z"
   },
   {
    "duration": 16,
    "start_time": "2022-03-29T08:46:16.321Z"
   },
   {
    "duration": 502,
    "start_time": "2022-03-29T08:47:54.740Z"
   },
   {
    "duration": 34,
    "start_time": "2022-03-29T08:47:55.245Z"
   },
   {
    "duration": 20,
    "start_time": "2022-03-29T08:47:55.283Z"
   },
   {
    "duration": 1337,
    "start_time": "2022-03-29T08:47:55.306Z"
   },
   {
    "duration": 18,
    "start_time": "2022-03-29T08:47:56.645Z"
   },
   {
    "duration": 418,
    "start_time": "2022-03-29T12:23:04.966Z"
   },
   {
    "duration": 30,
    "start_time": "2022-03-29T12:23:05.386Z"
   },
   {
    "duration": 11,
    "start_time": "2022-03-29T12:23:05.418Z"
   },
   {
    "duration": 1057,
    "start_time": "2022-03-29T12:23:05.431Z"
   },
   {
    "duration": 14,
    "start_time": "2022-03-29T12:23:06.491Z"
   },
   {
    "duration": 6,
    "start_time": "2022-03-29T13:37:30.418Z"
   },
   {
    "duration": 8,
    "start_time": "2022-03-29T13:38:42.725Z"
   },
   {
    "duration": 432,
    "start_time": "2022-03-29T13:42:07.711Z"
   },
   {
    "duration": 26,
    "start_time": "2022-03-29T13:42:08.145Z"
   },
   {
    "duration": 11,
    "start_time": "2022-03-29T13:42:08.172Z"
   },
   {
    "duration": 869,
    "start_time": "2022-03-29T13:42:08.185Z"
   },
   {
    "duration": 13,
    "start_time": "2022-03-29T13:42:09.056Z"
   },
   {
    "duration": 3,
    "start_time": "2022-03-29T13:42:30.533Z"
   },
   {
    "duration": 4,
    "start_time": "2022-03-29T13:44:23.816Z"
   },
   {
    "duration": 6,
    "start_time": "2022-03-29T13:45:00.712Z"
   },
   {
    "duration": 5,
    "start_time": "2022-03-29T13:45:20.073Z"
   },
   {
    "duration": 5,
    "start_time": "2022-03-29T13:45:59.055Z"
   },
   {
    "duration": 5,
    "start_time": "2022-03-29T13:46:03.755Z"
   },
   {
    "duration": 12,
    "start_time": "2022-03-29T13:46:36.956Z"
   },
   {
    "duration": 1129,
    "start_time": "2022-03-29T13:48:16.153Z"
   },
   {
    "duration": 24,
    "start_time": "2022-03-29T13:48:17.284Z"
   },
   {
    "duration": 12,
    "start_time": "2022-03-29T13:48:17.310Z"
   },
   {
    "duration": 941,
    "start_time": "2022-03-29T13:48:17.324Z"
   },
   {
    "duration": 14,
    "start_time": "2022-03-29T13:48:18.266Z"
   },
   {
    "duration": 9,
    "start_time": "2022-03-29T13:48:18.282Z"
   },
   {
    "duration": 6,
    "start_time": "2022-03-29T13:48:18.293Z"
   },
   {
    "duration": 25,
    "start_time": "2022-03-29T13:48:18.300Z"
   },
   {
    "duration": 5,
    "start_time": "2022-03-29T13:48:18.327Z"
   },
   {
    "duration": 10,
    "start_time": "2022-03-29T13:48:18.337Z"
   },
   {
    "duration": 117,
    "start_time": "2022-03-29T13:48:18.349Z"
   },
   {
    "duration": 7,
    "start_time": "2022-03-29T13:49:09.146Z"
   },
   {
    "duration": 12,
    "start_time": "2022-03-29T13:51:09.025Z"
   },
   {
    "duration": 6,
    "start_time": "2022-03-29T13:51:16.392Z"
   },
   {
    "duration": 13,
    "start_time": "2022-03-29T13:52:32.799Z"
   },
   {
    "duration": 3,
    "start_time": "2022-03-29T13:52:59.290Z"
   },
   {
    "duration": 10,
    "start_time": "2022-03-29T13:53:25.957Z"
   },
   {
    "duration": 7,
    "start_time": "2022-03-29T13:54:03.539Z"
   },
   {
    "duration": 6,
    "start_time": "2022-03-29T13:54:36.028Z"
   },
   {
    "duration": 1143,
    "start_time": "2022-03-29T13:55:02.242Z"
   },
   {
    "duration": 27,
    "start_time": "2022-03-29T13:55:03.387Z"
   },
   {
    "duration": 19,
    "start_time": "2022-03-29T13:55:03.416Z"
   },
   {
    "duration": 992,
    "start_time": "2022-03-29T13:55:03.437Z"
   },
   {
    "duration": 18,
    "start_time": "2022-03-29T13:55:04.431Z"
   },
   {
    "duration": 14,
    "start_time": "2022-03-29T13:55:04.450Z"
   },
   {
    "duration": 26,
    "start_time": "2022-03-29T13:55:04.466Z"
   },
   {
    "duration": 33,
    "start_time": "2022-03-29T13:55:04.494Z"
   },
   {
    "duration": 27,
    "start_time": "2022-03-29T13:55:04.529Z"
   },
   {
    "duration": 39,
    "start_time": "2022-03-29T13:55:04.558Z"
   },
   {
    "duration": 22,
    "start_time": "2022-03-29T13:55:04.598Z"
   },
   {
    "duration": 44,
    "start_time": "2022-03-29T13:55:04.622Z"
   },
   {
    "duration": 34,
    "start_time": "2022-03-29T13:55:04.668Z"
   },
   {
    "duration": 18,
    "start_time": "2022-03-29T13:55:04.705Z"
   },
   {
    "duration": 38,
    "start_time": "2022-03-29T13:55:04.725Z"
   },
   {
    "duration": 14,
    "start_time": "2022-03-29T13:55:04.765Z"
   },
   {
    "duration": 40,
    "start_time": "2022-03-29T13:55:04.781Z"
   },
   {
    "duration": 1070,
    "start_time": "2022-03-29T13:55:33.682Z"
   },
   {
    "duration": 26,
    "start_time": "2022-03-29T13:55:34.754Z"
   },
   {
    "duration": 12,
    "start_time": "2022-03-29T13:55:34.782Z"
   },
   {
    "duration": 942,
    "start_time": "2022-03-29T13:55:34.796Z"
   },
   {
    "duration": 13,
    "start_time": "2022-03-29T13:55:35.740Z"
   },
   {
    "duration": 10,
    "start_time": "2022-03-29T13:55:35.755Z"
   },
   {
    "duration": 14,
    "start_time": "2022-03-29T13:55:35.767Z"
   },
   {
    "duration": 19,
    "start_time": "2022-03-29T13:55:35.784Z"
   },
   {
    "duration": 24,
    "start_time": "2022-03-29T13:55:35.805Z"
   },
   {
    "duration": 28,
    "start_time": "2022-03-29T13:55:35.830Z"
   },
   {
    "duration": 28,
    "start_time": "2022-03-29T13:55:35.860Z"
   },
   {
    "duration": 24,
    "start_time": "2022-03-29T13:55:35.890Z"
   },
   {
    "duration": 14,
    "start_time": "2022-03-29T13:55:35.915Z"
   },
   {
    "duration": 8,
    "start_time": "2022-03-29T13:55:35.932Z"
   },
   {
    "duration": 13,
    "start_time": "2022-03-29T13:55:35.941Z"
   },
   {
    "duration": 50,
    "start_time": "2022-03-29T13:55:35.956Z"
   },
   {
    "duration": 15,
    "start_time": "2022-03-29T13:55:36.008Z"
   },
   {
    "duration": 1159,
    "start_time": "2022-03-29T13:56:29.503Z"
   },
   {
    "duration": 25,
    "start_time": "2022-03-29T13:56:30.664Z"
   },
   {
    "duration": 13,
    "start_time": "2022-03-29T13:56:30.692Z"
   },
   {
    "duration": 938,
    "start_time": "2022-03-29T13:56:30.707Z"
   },
   {
    "duration": 14,
    "start_time": "2022-03-29T13:56:31.648Z"
   },
   {
    "duration": 25,
    "start_time": "2022-03-29T13:56:31.664Z"
   },
   {
    "duration": 23,
    "start_time": "2022-03-29T13:56:31.691Z"
   },
   {
    "duration": 18,
    "start_time": "2022-03-29T13:56:31.716Z"
   },
   {
    "duration": 27,
    "start_time": "2022-03-29T13:56:31.737Z"
   },
   {
    "duration": 25,
    "start_time": "2022-03-29T13:56:31.767Z"
   },
   {
    "duration": 19,
    "start_time": "2022-03-29T13:56:31.794Z"
   },
   {
    "duration": 30,
    "start_time": "2022-03-29T13:56:31.815Z"
   },
   {
    "duration": 28,
    "start_time": "2022-03-29T13:56:31.847Z"
   },
   {
    "duration": 9,
    "start_time": "2022-03-29T13:56:31.877Z"
   },
   {
    "duration": 36,
    "start_time": "2022-03-29T13:56:31.888Z"
   },
   {
    "duration": 18,
    "start_time": "2022-03-29T13:56:31.927Z"
   },
   {
    "duration": 11,
    "start_time": "2022-03-29T13:56:31.947Z"
   },
   {
    "duration": 48,
    "start_time": "2022-03-29T14:12:10.221Z"
   },
   {
    "duration": 6,
    "start_time": "2022-03-29T14:12:14.643Z"
   },
   {
    "duration": 1150,
    "start_time": "2022-03-29T14:12:20.797Z"
   },
   {
    "duration": 27,
    "start_time": "2022-03-29T14:12:21.949Z"
   },
   {
    "duration": 11,
    "start_time": "2022-03-29T14:12:21.978Z"
   },
   {
    "duration": 1076,
    "start_time": "2022-03-29T14:12:21.991Z"
   },
   {
    "duration": 15,
    "start_time": "2022-03-29T14:12:23.069Z"
   },
   {
    "duration": 3,
    "start_time": "2022-03-29T14:12:23.086Z"
   },
   {
    "duration": 228,
    "start_time": "2022-03-29T14:12:23.090Z"
   },
   {
    "duration": 0,
    "start_time": "2022-03-29T14:12:23.319Z"
   },
   {
    "duration": 0,
    "start_time": "2022-03-29T14:12:23.321Z"
   },
   {
    "duration": 0,
    "start_time": "2022-03-29T14:12:23.322Z"
   },
   {
    "duration": 0,
    "start_time": "2022-03-29T14:12:23.324Z"
   },
   {
    "duration": 0,
    "start_time": "2022-03-29T14:12:23.325Z"
   },
   {
    "duration": 0,
    "start_time": "2022-03-29T14:12:23.325Z"
   },
   {
    "duration": 0,
    "start_time": "2022-03-29T14:12:23.326Z"
   },
   {
    "duration": 0,
    "start_time": "2022-03-29T14:12:23.327Z"
   },
   {
    "duration": 0,
    "start_time": "2022-03-29T14:12:23.328Z"
   },
   {
    "duration": 0,
    "start_time": "2022-03-29T14:12:23.329Z"
   },
   {
    "duration": 0,
    "start_time": "2022-03-29T14:12:23.330Z"
   },
   {
    "duration": 1123,
    "start_time": "2022-03-29T14:13:16.516Z"
   },
   {
    "duration": 28,
    "start_time": "2022-03-29T14:13:17.640Z"
   },
   {
    "duration": 11,
    "start_time": "2022-03-29T14:13:17.670Z"
   },
   {
    "duration": 905,
    "start_time": "2022-03-29T14:13:17.682Z"
   },
   {
    "duration": 20,
    "start_time": "2022-03-29T14:13:18.590Z"
   },
   {
    "duration": 3,
    "start_time": "2022-03-29T14:13:18.611Z"
   },
   {
    "duration": 210,
    "start_time": "2022-03-29T14:13:18.616Z"
   },
   {
    "duration": 0,
    "start_time": "2022-03-29T14:13:18.829Z"
   },
   {
    "duration": 0,
    "start_time": "2022-03-29T14:13:18.831Z"
   },
   {
    "duration": 0,
    "start_time": "2022-03-29T14:13:18.832Z"
   },
   {
    "duration": 0,
    "start_time": "2022-03-29T14:13:18.834Z"
   },
   {
    "duration": 0,
    "start_time": "2022-03-29T14:13:18.836Z"
   },
   {
    "duration": 0,
    "start_time": "2022-03-29T14:13:18.837Z"
   },
   {
    "duration": 0,
    "start_time": "2022-03-29T14:13:18.839Z"
   },
   {
    "duration": 0,
    "start_time": "2022-03-29T14:13:18.840Z"
   },
   {
    "duration": 0,
    "start_time": "2022-03-29T14:13:18.842Z"
   },
   {
    "duration": 0,
    "start_time": "2022-03-29T14:13:18.843Z"
   },
   {
    "duration": 0,
    "start_time": "2022-03-29T14:13:18.844Z"
   },
   {
    "duration": 3,
    "start_time": "2022-03-29T14:15:24.030Z"
   },
   {
    "duration": 141,
    "start_time": "2022-03-29T14:15:25.467Z"
   },
   {
    "duration": 2,
    "start_time": "2022-03-29T14:15:36.770Z"
   },
   {
    "duration": 305,
    "start_time": "2022-03-29T14:15:37.748Z"
   },
   {
    "duration": 3,
    "start_time": "2022-03-29T14:16:16.116Z"
   },
   {
    "duration": 6,
    "start_time": "2022-03-29T14:16:16.596Z"
   },
   {
    "duration": 4,
    "start_time": "2022-03-29T14:16:19.883Z"
   },
   {
    "duration": 4,
    "start_time": "2022-03-29T14:16:20.542Z"
   },
   {
    "duration": 4,
    "start_time": "2022-03-29T14:16:22.073Z"
   },
   {
    "duration": 10,
    "start_time": "2022-03-29T14:16:22.982Z"
   },
   {
    "duration": 7,
    "start_time": "2022-03-29T14:16:25.347Z"
   },
   {
    "duration": 6,
    "start_time": "2022-03-29T14:16:26.533Z"
   },
   {
    "duration": 14,
    "start_time": "2022-03-29T14:16:27.281Z"
   },
   {
    "duration": 3,
    "start_time": "2022-03-29T14:16:28.337Z"
   },
   {
    "duration": 10,
    "start_time": "2022-03-29T14:16:33.201Z"
   },
   {
    "duration": 5,
    "start_time": "2022-03-29T14:16:33.777Z"
   },
   {
    "duration": 5,
    "start_time": "2022-03-29T14:16:34.617Z"
   },
   {
    "duration": 1086,
    "start_time": "2022-03-29T14:16:51.340Z"
   },
   {
    "duration": 27,
    "start_time": "2022-03-29T14:16:52.428Z"
   },
   {
    "duration": 10,
    "start_time": "2022-03-29T14:16:52.457Z"
   },
   {
    "duration": 887,
    "start_time": "2022-03-29T14:16:52.468Z"
   },
   {
    "duration": 13,
    "start_time": "2022-03-29T14:16:53.357Z"
   },
   {
    "duration": 3,
    "start_time": "2022-03-29T14:16:53.371Z"
   },
   {
    "duration": 34,
    "start_time": "2022-03-29T14:16:53.376Z"
   },
   {
    "duration": 10,
    "start_time": "2022-03-29T14:16:53.413Z"
   },
   {
    "duration": 85,
    "start_time": "2022-03-29T14:16:53.426Z"
   },
   {
    "duration": 6,
    "start_time": "2022-03-29T14:16:53.513Z"
   },
   {
    "duration": 12,
    "start_time": "2022-03-29T14:16:53.521Z"
   },
   {
    "duration": 9,
    "start_time": "2022-03-29T14:16:53.534Z"
   },
   {
    "duration": 6,
    "start_time": "2022-03-29T14:16:53.544Z"
   },
   {
    "duration": 17,
    "start_time": "2022-03-29T14:16:53.552Z"
   },
   {
    "duration": 38,
    "start_time": "2022-03-29T14:16:53.571Z"
   },
   {
    "duration": 12,
    "start_time": "2022-03-29T14:16:53.611Z"
   },
   {
    "duration": 6,
    "start_time": "2022-03-29T14:16:53.624Z"
   },
   {
    "duration": 7,
    "start_time": "2022-03-29T14:16:53.631Z"
   },
   {
    "duration": 1084,
    "start_time": "2022-03-29T14:18:25.539Z"
   },
   {
    "duration": 28,
    "start_time": "2022-03-29T14:18:26.624Z"
   },
   {
    "duration": 11,
    "start_time": "2022-03-29T14:18:26.654Z"
   },
   {
    "duration": 872,
    "start_time": "2022-03-29T14:18:26.666Z"
   },
   {
    "duration": 12,
    "start_time": "2022-03-29T14:18:27.540Z"
   },
   {
    "duration": 3,
    "start_time": "2022-03-29T14:18:27.553Z"
   },
   {
    "duration": 5,
    "start_time": "2022-03-29T14:18:27.558Z"
   },
   {
    "duration": 47,
    "start_time": "2022-03-29T14:18:27.565Z"
   },
   {
    "duration": 11,
    "start_time": "2022-03-29T14:18:27.614Z"
   },
   {
    "duration": 85,
    "start_time": "2022-03-29T14:18:27.627Z"
   },
   {
    "duration": 10,
    "start_time": "2022-03-29T14:18:27.713Z"
   },
   {
    "duration": 6,
    "start_time": "2022-03-29T14:18:27.725Z"
   },
   {
    "duration": 5,
    "start_time": "2022-03-29T14:18:27.733Z"
   },
   {
    "duration": 13,
    "start_time": "2022-03-29T14:18:27.740Z"
   },
   {
    "duration": 2,
    "start_time": "2022-03-29T14:18:27.754Z"
   },
   {
    "duration": 11,
    "start_time": "2022-03-29T14:18:27.758Z"
   },
   {
    "duration": 43,
    "start_time": "2022-03-29T14:18:27.770Z"
   },
   {
    "duration": 6,
    "start_time": "2022-03-29T14:18:27.815Z"
   },
   {
    "duration": 1056,
    "start_time": "2022-03-29T14:18:56.566Z"
   },
   {
    "duration": 23,
    "start_time": "2022-03-29T14:18:57.624Z"
   },
   {
    "duration": 10,
    "start_time": "2022-03-29T14:18:57.649Z"
   },
   {
    "duration": 904,
    "start_time": "2022-03-29T14:18:57.661Z"
   },
   {
    "duration": 13,
    "start_time": "2022-03-29T14:18:58.567Z"
   },
   {
    "duration": 3,
    "start_time": "2022-03-29T14:18:58.581Z"
   },
   {
    "duration": 26,
    "start_time": "2022-03-29T14:18:58.586Z"
   },
   {
    "duration": 8,
    "start_time": "2022-03-29T14:18:58.615Z"
   },
   {
    "duration": 85,
    "start_time": "2022-03-29T14:18:58.626Z"
   },
   {
    "duration": 6,
    "start_time": "2022-03-29T14:18:58.714Z"
   },
   {
    "duration": 88,
    "start_time": "2022-03-29T14:18:58.722Z"
   },
   {
    "duration": 7,
    "start_time": "2022-03-29T14:18:58.812Z"
   },
   {
    "duration": 6,
    "start_time": "2022-03-29T14:18:58.820Z"
   },
   {
    "duration": 13,
    "start_time": "2022-03-29T14:18:58.828Z"
   },
   {
    "duration": 2,
    "start_time": "2022-03-29T14:18:58.843Z"
   },
   {
    "duration": 12,
    "start_time": "2022-03-29T14:18:58.846Z"
   },
   {
    "duration": 5,
    "start_time": "2022-03-29T14:18:58.860Z"
   },
   {
    "duration": 6,
    "start_time": "2022-03-29T14:18:58.909Z"
   },
   {
    "duration": 6,
    "start_time": "2022-03-29T14:19:15.815Z"
   },
   {
    "duration": 6,
    "start_time": "2022-03-29T14:19:29.153Z"
   },
   {
    "duration": 6,
    "start_time": "2022-03-29T14:19:41.755Z"
   },
   {
    "duration": 1739,
    "start_time": "2022-03-29T16:40:01.145Z"
   },
   {
    "duration": 41,
    "start_time": "2022-03-29T16:40:02.886Z"
   },
   {
    "duration": 24,
    "start_time": "2022-03-29T16:40:02.929Z"
   },
   {
    "duration": 1766,
    "start_time": "2022-03-29T16:40:02.956Z"
   },
   {
    "duration": 25,
    "start_time": "2022-03-29T16:40:04.725Z"
   },
   {
    "duration": 4,
    "start_time": "2022-03-29T16:40:04.753Z"
   },
   {
    "duration": 83,
    "start_time": "2022-03-29T16:40:04.759Z"
   },
   {
    "duration": 100,
    "start_time": "2022-03-29T16:40:04.847Z"
   },
   {
    "duration": 12,
    "start_time": "2022-03-29T16:40:04.949Z"
   },
   {
    "duration": 5,
    "start_time": "2022-03-29T16:40:04.965Z"
   },
   {
    "duration": 14,
    "start_time": "2022-03-29T16:40:04.972Z"
   },
   {
    "duration": 16,
    "start_time": "2022-03-29T16:40:04.988Z"
   },
   {
    "duration": 39,
    "start_time": "2022-03-29T16:40:05.006Z"
   },
   {
    "duration": 25,
    "start_time": "2022-03-29T16:40:05.047Z"
   },
   {
    "duration": 3,
    "start_time": "2022-03-29T16:40:05.074Z"
   },
   {
    "duration": 67,
    "start_time": "2022-03-29T16:40:05.079Z"
   },
   {
    "duration": 106,
    "start_time": "2022-03-29T16:40:05.149Z"
   },
   {
    "duration": 11,
    "start_time": "2022-03-29T16:40:05.257Z"
   },
   {
    "duration": 1666,
    "start_time": "2022-03-29T17:04:22.559Z"
   },
   {
    "duration": 51,
    "start_time": "2022-03-29T17:04:24.228Z"
   },
   {
    "duration": 18,
    "start_time": "2022-03-29T17:04:24.281Z"
   },
   {
    "duration": 1476,
    "start_time": "2022-03-29T17:04:24.301Z"
   },
   {
    "duration": 20,
    "start_time": "2022-03-29T17:04:25.781Z"
   },
   {
    "duration": 6,
    "start_time": "2022-03-29T17:04:25.804Z"
   },
   {
    "duration": 37,
    "start_time": "2022-03-29T17:04:25.813Z"
   },
   {
    "duration": 12,
    "start_time": "2022-03-29T17:04:25.853Z"
   },
   {
    "duration": 7,
    "start_time": "2022-03-29T17:04:25.945Z"
   },
   {
    "duration": 89,
    "start_time": "2022-03-29T17:04:25.955Z"
   },
   {
    "duration": 13,
    "start_time": "2022-03-29T17:04:26.048Z"
   },
   {
    "duration": 11,
    "start_time": "2022-03-29T17:04:26.064Z"
   },
   {
    "duration": 8,
    "start_time": "2022-03-29T17:04:26.077Z"
   },
   {
    "duration": 65,
    "start_time": "2022-03-29T17:04:26.089Z"
   },
   {
    "duration": 3,
    "start_time": "2022-03-29T17:04:26.156Z"
   },
   {
    "duration": 17,
    "start_time": "2022-03-29T17:04:26.161Z"
   },
   {
    "duration": 63,
    "start_time": "2022-03-29T17:04:26.181Z"
   },
   {
    "duration": 11,
    "start_time": "2022-03-29T17:04:26.246Z"
   },
   {
    "duration": 7,
    "start_time": "2022-03-29T17:07:40.011Z"
   },
   {
    "duration": 22,
    "start_time": "2022-03-29T17:08:07.546Z"
   },
   {
    "duration": 59,
    "start_time": "2022-03-29T17:10:04.015Z"
   },
   {
    "duration": 52,
    "start_time": "2022-03-29T17:10:31.622Z"
   },
   {
    "duration": 55,
    "start_time": "2022-03-29T17:10:48.883Z"
   },
   {
    "duration": 7,
    "start_time": "2022-03-29T17:27:39.505Z"
   },
   {
    "duration": 1551,
    "start_time": "2022-03-29T17:42:07.220Z"
   },
   {
    "duration": 39,
    "start_time": "2022-03-29T17:42:08.774Z"
   },
   {
    "duration": 17,
    "start_time": "2022-03-29T17:42:08.815Z"
   },
   {
    "duration": 1326,
    "start_time": "2022-03-29T17:42:08.835Z"
   },
   {
    "duration": 20,
    "start_time": "2022-03-29T17:42:10.163Z"
   },
   {
    "duration": 4,
    "start_time": "2022-03-29T17:42:10.185Z"
   },
   {
    "duration": 52,
    "start_time": "2022-03-29T17:42:10.191Z"
   },
   {
    "duration": 8,
    "start_time": "2022-03-29T17:42:10.247Z"
   },
   {
    "duration": 87,
    "start_time": "2022-03-29T17:42:10.259Z"
   },
   {
    "duration": 6,
    "start_time": "2022-03-29T17:42:10.350Z"
   },
   {
    "duration": 12,
    "start_time": "2022-03-29T17:42:10.358Z"
   },
   {
    "duration": 11,
    "start_time": "2022-03-29T17:42:10.372Z"
   },
   {
    "duration": 7,
    "start_time": "2022-03-29T17:42:10.385Z"
   },
   {
    "duration": 17,
    "start_time": "2022-03-29T17:42:10.443Z"
   },
   {
    "duration": 4,
    "start_time": "2022-03-29T17:42:10.462Z"
   },
   {
    "duration": 14,
    "start_time": "2022-03-29T17:42:10.468Z"
   },
   {
    "duration": 8,
    "start_time": "2022-03-29T17:42:10.484Z"
   },
   {
    "duration": 17,
    "start_time": "2022-03-29T17:42:10.493Z"
   },
   {
    "duration": 7,
    "start_time": "2022-03-29T17:42:10.543Z"
   },
   {
    "duration": 200,
    "start_time": "2022-03-29T17:42:10.553Z"
   },
   {
    "duration": 1644,
    "start_time": "2022-03-29T17:44:38.335Z"
   },
   {
    "duration": 36,
    "start_time": "2022-03-29T17:44:39.982Z"
   },
   {
    "duration": 26,
    "start_time": "2022-03-29T17:44:40.021Z"
   },
   {
    "duration": 1472,
    "start_time": "2022-03-29T17:44:40.054Z"
   },
   {
    "duration": 25,
    "start_time": "2022-03-29T17:44:41.529Z"
   },
   {
    "duration": 7,
    "start_time": "2022-03-29T17:44:41.557Z"
   },
   {
    "duration": 24,
    "start_time": "2022-03-29T17:44:41.566Z"
   },
   {
    "duration": 55,
    "start_time": "2022-03-29T17:44:41.593Z"
   },
   {
    "duration": 93,
    "start_time": "2022-03-29T17:44:41.651Z"
   },
   {
    "duration": 7,
    "start_time": "2022-03-29T17:44:41.747Z"
   },
   {
    "duration": 24,
    "start_time": "2022-03-29T17:44:41.757Z"
   },
   {
    "duration": 17,
    "start_time": "2022-03-29T17:44:41.783Z"
   },
   {
    "duration": 23,
    "start_time": "2022-03-29T17:44:41.802Z"
   },
   {
    "duration": 26,
    "start_time": "2022-03-29T17:44:41.829Z"
   },
   {
    "duration": 4,
    "start_time": "2022-03-29T17:44:41.857Z"
   },
   {
    "duration": 15,
    "start_time": "2022-03-29T17:44:41.864Z"
   },
   {
    "duration": 14,
    "start_time": "2022-03-29T17:44:41.882Z"
   },
   {
    "duration": 45,
    "start_time": "2022-03-29T17:44:41.898Z"
   },
   {
    "duration": 16,
    "start_time": "2022-03-29T17:44:41.946Z"
   },
   {
    "duration": 204,
    "start_time": "2022-03-29T17:44:41.964Z"
   },
   {
    "duration": 1246,
    "start_time": "2022-03-30T10:37:41.727Z"
   },
   {
    "duration": 28,
    "start_time": "2022-03-30T10:37:42.975Z"
   },
   {
    "duration": 11,
    "start_time": "2022-03-30T10:37:43.005Z"
   },
   {
    "duration": 1043,
    "start_time": "2022-03-30T10:37:43.018Z"
   },
   {
    "duration": 22,
    "start_time": "2022-03-30T10:37:44.064Z"
   },
   {
    "duration": 8,
    "start_time": "2022-03-30T10:37:44.089Z"
   },
   {
    "duration": 9,
    "start_time": "2022-03-30T10:37:44.099Z"
   },
   {
    "duration": 75,
    "start_time": "2022-03-30T10:37:44.110Z"
   },
   {
    "duration": 97,
    "start_time": "2022-03-30T10:37:44.187Z"
   },
   {
    "duration": 6,
    "start_time": "2022-03-30T10:37:44.287Z"
   },
   {
    "duration": 12,
    "start_time": "2022-03-30T10:37:44.296Z"
   },
   {
    "duration": 10,
    "start_time": "2022-03-30T10:37:44.309Z"
   },
   {
    "duration": 6,
    "start_time": "2022-03-30T10:37:44.320Z"
   },
   {
    "duration": 12,
    "start_time": "2022-03-30T10:37:44.328Z"
   },
   {
    "duration": 4,
    "start_time": "2022-03-30T10:37:44.342Z"
   },
   {
    "duration": 14,
    "start_time": "2022-03-30T10:37:44.382Z"
   },
   {
    "duration": 190,
    "start_time": "2022-03-30T10:37:44.398Z"
   },
   {
    "duration": 6,
    "start_time": "2022-03-30T10:37:44.590Z"
   },
   {
    "duration": 4,
    "start_time": "2022-03-30T10:37:44.598Z"
   },
   {
    "duration": 90,
    "start_time": "2022-03-30T10:37:44.604Z"
   },
   {
    "duration": 517,
    "start_time": "2022-03-30T10:56:59.688Z"
   },
   {
    "duration": 1571,
    "start_time": "2022-03-30T11:39:09.365Z"
   },
   {
    "duration": 39,
    "start_time": "2022-03-30T11:39:10.938Z"
   },
   {
    "duration": 17,
    "start_time": "2022-03-30T11:39:10.979Z"
   },
   {
    "duration": 1746,
    "start_time": "2022-03-30T11:39:10.999Z"
   },
   {
    "duration": 19,
    "start_time": "2022-03-30T11:39:12.749Z"
   },
   {
    "duration": 10,
    "start_time": "2022-03-30T11:39:12.784Z"
   },
   {
    "duration": 22,
    "start_time": "2022-03-30T11:39:12.797Z"
   },
   {
    "duration": 66,
    "start_time": "2022-03-30T11:39:12.824Z"
   },
   {
    "duration": 122,
    "start_time": "2022-03-30T11:39:12.893Z"
   },
   {
    "duration": 26,
    "start_time": "2022-03-30T11:39:13.017Z"
   },
   {
    "duration": 28,
    "start_time": "2022-03-30T11:39:13.045Z"
   },
   {
    "duration": 20,
    "start_time": "2022-03-30T11:39:13.076Z"
   },
   {
    "duration": 31,
    "start_time": "2022-03-30T11:39:13.098Z"
   },
   {
    "duration": 30,
    "start_time": "2022-03-30T11:39:13.133Z"
   },
   {
    "duration": 15,
    "start_time": "2022-03-30T11:39:13.165Z"
   },
   {
    "duration": 104,
    "start_time": "2022-03-30T11:39:13.182Z"
   },
   {
    "duration": 96,
    "start_time": "2022-03-30T11:39:13.289Z"
   },
   {
    "duration": 29,
    "start_time": "2022-03-30T11:39:13.388Z"
   },
   {
    "duration": 28,
    "start_time": "2022-03-30T11:39:13.419Z"
   },
   {
    "duration": 152,
    "start_time": "2022-03-30T11:39:13.450Z"
   },
   {
    "duration": 1600,
    "start_time": "2022-03-30T11:49:28.923Z"
   },
   {
    "duration": 36,
    "start_time": "2022-03-30T11:49:30.525Z"
   },
   {
    "duration": 24,
    "start_time": "2022-03-30T11:49:30.563Z"
   },
   {
    "duration": 1530,
    "start_time": "2022-03-30T11:49:30.591Z"
   },
   {
    "duration": 19,
    "start_time": "2022-03-30T11:49:32.124Z"
   },
   {
    "duration": 52,
    "start_time": "2022-03-30T11:49:32.146Z"
   },
   {
    "duration": 30,
    "start_time": "2022-03-30T11:49:32.200Z"
   },
   {
    "duration": 64,
    "start_time": "2022-03-30T11:49:32.232Z"
   },
   {
    "duration": 99,
    "start_time": "2022-03-30T11:49:32.298Z"
   },
   {
    "duration": 20,
    "start_time": "2022-03-30T11:49:32.402Z"
   },
   {
    "duration": 25,
    "start_time": "2022-03-30T11:49:32.425Z"
   },
   {
    "duration": 85,
    "start_time": "2022-03-30T11:49:32.453Z"
   },
   {
    "duration": 54,
    "start_time": "2022-03-30T11:49:32.540Z"
   },
   {
    "duration": 51,
    "start_time": "2022-03-30T11:49:32.597Z"
   },
   {
    "duration": 19,
    "start_time": "2022-03-30T11:49:32.650Z"
   },
   {
    "duration": 52,
    "start_time": "2022-03-30T11:49:32.671Z"
   },
   {
    "duration": 16,
    "start_time": "2022-03-30T11:49:32.725Z"
   },
   {
    "duration": 27,
    "start_time": "2022-03-30T11:49:32.743Z"
   },
   {
    "duration": 19,
    "start_time": "2022-03-30T11:49:32.772Z"
   },
   {
    "duration": 214,
    "start_time": "2022-03-30T11:49:32.794Z"
   },
   {
    "duration": 1612,
    "start_time": "2022-04-01T09:17:31.454Z"
   },
   {
    "duration": 34,
    "start_time": "2022-04-01T09:17:33.068Z"
   },
   {
    "duration": 16,
    "start_time": "2022-04-01T09:17:33.105Z"
   },
   {
    "duration": 1654,
    "start_time": "2022-04-01T09:17:33.123Z"
   },
   {
    "duration": 20,
    "start_time": "2022-04-01T09:17:34.785Z"
   },
   {
    "duration": 13,
    "start_time": "2022-04-01T09:17:34.808Z"
   },
   {
    "duration": 61,
    "start_time": "2022-04-01T09:17:34.823Z"
   },
   {
    "duration": 99,
    "start_time": "2022-04-01T09:17:34.888Z"
   },
   {
    "duration": 13,
    "start_time": "2022-04-01T09:17:34.989Z"
   },
   {
    "duration": 15,
    "start_time": "2022-04-01T09:17:35.004Z"
   },
   {
    "duration": 23,
    "start_time": "2022-04-01T09:17:35.021Z"
   },
   {
    "duration": 20,
    "start_time": "2022-04-01T09:17:35.046Z"
   },
   {
    "duration": 17,
    "start_time": "2022-04-01T09:17:35.068Z"
   },
   {
    "duration": 23,
    "start_time": "2022-04-01T09:17:35.089Z"
   },
   {
    "duration": 12,
    "start_time": "2022-04-01T09:17:35.114Z"
   },
   {
    "duration": 57,
    "start_time": "2022-04-01T09:17:35.129Z"
   },
   {
    "duration": 109,
    "start_time": "2022-04-01T09:17:35.189Z"
   },
   {
    "duration": 15,
    "start_time": "2022-04-01T09:17:35.301Z"
   },
   {
    "duration": 25,
    "start_time": "2022-04-01T09:17:35.318Z"
   },
   {
    "duration": 159,
    "start_time": "2022-04-01T09:17:35.346Z"
   }
  ],
  "kernelspec": {
   "display_name": "Python 3 (ipykernel)",
   "language": "python",
   "name": "python3"
  },
  "language_info": {
   "codemirror_mode": {
    "name": "ipython",
    "version": 3
   },
   "file_extension": ".py",
   "mimetype": "text/x-python",
   "name": "python",
   "nbconvert_exporter": "python",
   "pygments_lexer": "ipython3",
   "version": "3.9.4"
  },
  "toc": {
   "base_numbering": 1,
   "nav_menu": {},
   "number_sections": true,
   "sideBar": true,
   "skip_h1_title": true,
   "title_cell": "Содержание",
   "title_sidebar": "Contents",
   "toc_cell": true,
   "toc_position": {
    "height": "calc(100% - 180px)",
    "left": "10px",
    "top": "150px",
    "width": "165px"
   },
   "toc_section_display": true,
   "toc_window_display": true
  }
 },
 "nbformat": 4,
 "nbformat_minor": 2
}
